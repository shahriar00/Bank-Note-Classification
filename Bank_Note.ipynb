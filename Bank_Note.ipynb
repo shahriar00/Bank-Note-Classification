{
  "nbformat": 4,
  "nbformat_minor": 0,
  "metadata": {
    "colab": {
      "provenance": [],
      "authorship_tag": "ABX9TyOZD9DFLlGzCSAsZ26ehEHi"
    },
    "kernelspec": {
      "name": "python3",
      "display_name": "Python 3"
    },
    "language_info": {
      "name": "python"
    }
  },
  "cells": [
    {
      "cell_type": "code",
      "execution_count": 23,
      "metadata": {
        "id": "hqgvkDxqVzBs"
      },
      "outputs": [],
      "source": [
        "import numpy as np\n",
        "import random\n",
        "import csv\n",
        "from sklearn.linear_model import Perceptron\n",
        "from sklearn.neighbors import KNeighborsClassifier\n",
        "from sklearn.naive_bayes import GaussianNB\n",
        "from sklearn.svm import SVC"
      ]
    },
    {
      "cell_type": "code",
      "source": [
        "# model = Perceptron()\n",
        "# model = KNeighborsClassifier(n_neighbors=1)\n",
        "# model = GaussianNB()\n",
        "model = SVC()"
      ],
      "metadata": {
        "id": "_T-zM-JsYYPm"
      },
      "execution_count": 24,
      "outputs": []
    },
    {
      "cell_type": "code",
      "source": [
        "with open('BankNote_Authentication.csv') as f:\n",
        "  reader = csv.reader(f)\n",
        "  next(reader)\n",
        "\n",
        "  data = []\n",
        "  for row in reader:\n",
        "    data.append({'evidence':[float(cell) for cell in row[:4]],\n",
        "                'label':'Authenthic' if row[4] == '0' else 'counterfit'})"
      ],
      "metadata": {
        "id": "yRv07hZtY5KV"
      },
      "execution_count": 25,
      "outputs": []
    },
    {
      "cell_type": "code",
      "source": [
        "holdout = int(0.4*(len(data)))\n",
        "random.shuffle(data)\n",
        "testing = data[:holdout]\n",
        "training = data[holdout:]"
      ],
      "metadata": {
        "id": "uf-HBrR-cD1F"
      },
      "execution_count": 26,
      "outputs": []
    },
    {
      "cell_type": "code",
      "source": [
        "x_training = [row['evidence'] for row in training]\n",
        "y_training = [row['label'] for row in training]\n",
        "model.fit(x_training,y_training)"
      ],
      "metadata": {
        "id": "PurYOkqjdOef"
      },
      "execution_count": null,
      "outputs": []
    },
    {
      "cell_type": "code",
      "source": [
        "x_testing = [row['evidence'] for row in testing]\n",
        "y_testing = [row['label'] for row in testing]\n",
        "\n",
        "predictions = model.predict(x_testing)"
      ],
      "metadata": {
        "id": "IAc6u_m3d45-"
      },
      "execution_count": 28,
      "outputs": []
    },
    {
      "cell_type": "code",
      "source": [
        "correct = 0\n",
        "incorrect = 0\n",
        "total = 0\n",
        "\n",
        "for actual,predicted in zip(y_testing,predictions):\n",
        "  total+=1\n",
        "  if actual==predicted:\n",
        "    correct+=1\n",
        "  else:\n",
        "    incorrect+=1\n",
        "\n",
        "print(f\"Correct Value:{correct}\")\n",
        "print(f\"Incorrect Value:{incorrect}\")\n",
        "print(f\"Accuracy result:{correct*100/total : 0.2f}\")"
      ],
      "metadata": {
        "colab": {
          "base_uri": "https://localhost:8080/"
        },
        "id": "ygqrh7m3eJcF",
        "outputId": "b9dbd3c0-d712-459e-ab3d-f288d4ebe0ff"
      },
      "execution_count": 29,
      "outputs": [
        {
          "output_type": "stream",
          "name": "stdout",
          "text": [
            "Correct Value:548\n",
            "Incorrect Value:0\n",
            "Accuracy result: 100.00\n"
          ]
        }
      ]
    }
  ]
}